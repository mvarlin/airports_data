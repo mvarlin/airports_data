{
 "cells": [
  {
   "cell_type": "code",
   "execution_count": 1,
   "id": "laden-massage",
   "metadata": {},
   "outputs": [],
   "source": [
    "# Render our plots inline\n",
    "%matplotlib inline\n",
    "\n",
    "import pandas as pd\n",
    "import numpy as np\n",
    "import matplotlib.pyplot as plt\n",
    "\n",
    "plt.rcParams['figure.figsize'] = (15, 10)"
   ]
  },
  {
   "cell_type": "code",
   "execution_count": 2,
   "id": "treated-reputation",
   "metadata": {},
   "outputs": [],
   "source": [
    "airlines = pd.read_csv(\"data-csv/airlines.csv\")\n",
    "airports = pd.read_csv(\"data-csv/airports.csv\")\n",
    "flights = pd.read_csv(\"data-csv/flights.csv\")\n",
    "planes = pd.read_csv(\"data-csv/planes.csv\")\n",
    "weather = pd.read_csv(\"data-csv/weather.csv\")\n",
    "weather_with_3_doublons = pd.read_csv(\"data-csv/weather_with_3_doublons.csv\")"
   ]
  },
  {
   "cell_type": "code",
   "execution_count": 3,
   "id": "mechanical-silicon",
   "metadata": {},
   "outputs": [
    {
     "data": {
      "text/plain": [
       "True"
      ]
     },
     "execution_count": 3,
     "metadata": {},
     "output_type": "execute_result"
    }
   ],
   "source": [
    "#pd.Series(airports['faa'].unique())\n",
    "airports['faa'].nunique() == len(airports['faa'])"
   ]
  },
  {
   "cell_type": "code",
   "execution_count": 4,
   "id": "separate-suffering",
   "metadata": {
    "scrolled": true
   },
   "outputs": [
    {
     "name": "stdout",
     "output_type": "stream",
     "text": [
      "\n",
      "#1 \n",
      "\n",
      "There is 1458 airports.\n",
      "There is 23 airports that doesn't change time in summer.\n",
      "There is 10 timezones.\n",
      "There is 16 companies.\n",
      "There is 3322 planes.\n",
      "There is 8255 canceled flights.\n"
     ]
    }
   ],
   "source": [
    "#1\n",
    "print('\\n#1 \\n')\n",
    "print('There is', len(airports['faa']), 'airports.')\n",
    "\n",
    "nbAirportsNoSummerChange = len(airports[airports['dst'] == 'N'])\n",
    "print('There is', nbAirportsNoSummerChange, 'airports that doesn\\'t change time in summer.')\n",
    "\n",
    "nbTimeZone = airports['tzone'].nunique()\n",
    "print('There is', nbTimeZone, 'timezones.')\n",
    "\n",
    "print('There is', len(airlines), 'companies.')\n",
    "\n",
    "print('There is', len(planes), 'planes.')\n",
    "\n",
    "nbCanceledFlights = len(flights[flights['dep_time'] == ' '])\n",
    "print('There is', nbCanceledFlights, 'canceled flights.')"
   ]
  },
  {
   "cell_type": "code",
   "execution_count": 5,
   "id": "agricultural-heart",
   "metadata": {
    "scrolled": true
   },
   "outputs": [
    {
     "name": "stdout",
     "output_type": "stream",
     "text": [
      "\n",
      "#2 \n",
      "\n",
      "United Air Lines Inc. is the most frequented airport of the United States.\n"
     ]
    }
   ],
   "source": [
    "#2\n",
    "print('\\n#2 \\n')\n",
    "mostUsedCarrier = flights['carrier'].mode()[0]\n",
    "mostUsedCarrier\n",
    "\n",
    "mostFrequentedAirport = airlines[airlines['carrier'] == mostUsedCarrier]['name'].values[0]\n",
    "print(mostFrequentedAirport, 'is the most frequented airport of the United States.')"
   ]
  },
  {
   "cell_type": "code",
   "execution_count": 6,
   "id": "increasing-division",
   "metadata": {},
   "outputs": [],
   "source": [
    "def getCarrier(dest):\n",
    "    carrier = flights[flights['dest'] == dest]['carrier']\n",
    "    return carrier.mode()[0]\n"
   ]
  },
  {
   "cell_type": "code",
   "execution_count": 7,
   "id": "sublime-hanging",
   "metadata": {},
   "outputs": [],
   "source": [
    "def getTopNameDestination(carrier):\n",
    "    return airlines[airlines['carrier'] == carrier]['name'].values[0]\n",
    "\n",
    "def getWorstNameDestination(carrier):\n",
    "    return airlines[airlines['carrier'] == carrier]['name'].values[-1]"
   ]
  },
  {
   "cell_type": "code",
   "execution_count": 25,
   "id": "operational-president",
   "metadata": {
    "scrolled": true
   },
   "outputs": [
    {
     "data": {
      "text/html": [
       "<div>\n",
       "<style scoped>\n",
       "    .dataframe tbody tr th:only-of-type {\n",
       "        vertical-align: middle;\n",
       "    }\n",
       "\n",
       "    .dataframe tbody tr th {\n",
       "        vertical-align: top;\n",
       "    }\n",
       "\n",
       "    .dataframe thead th {\n",
       "        text-align: right;\n",
       "    }\n",
       "</style>\n",
       "<table border=\"1\" class=\"dataframe\">\n",
       "  <thead>\n",
       "    <tr style=\"text-align: right;\">\n",
       "      <th></th>\n",
       "      <th>faa</th>\n",
       "      <th>dest</th>\n",
       "      <th>name</th>\n",
       "    </tr>\n",
       "  </thead>\n",
       "  <tbody>\n",
       "    <tr>\n",
       "      <th>0</th>\n",
       "      <td>ORD</td>\n",
       "      <td>17283</td>\n",
       "      <td>Chicago Ohare Intl</td>\n",
       "    </tr>\n",
       "    <tr>\n",
       "      <th>1</th>\n",
       "      <td>ATL</td>\n",
       "      <td>17215</td>\n",
       "      <td>Hartsfield Jackson Atlanta Intl</td>\n",
       "    </tr>\n",
       "    <tr>\n",
       "      <th>2</th>\n",
       "      <td>LAX</td>\n",
       "      <td>16174</td>\n",
       "      <td>Los Angeles Intl</td>\n",
       "    </tr>\n",
       "    <tr>\n",
       "      <th>3</th>\n",
       "      <td>BOS</td>\n",
       "      <td>15508</td>\n",
       "      <td>General Edward Lawrence Logan Intl</td>\n",
       "    </tr>\n",
       "    <tr>\n",
       "      <th>4</th>\n",
       "      <td>MCO</td>\n",
       "      <td>14082</td>\n",
       "      <td>Orlando Intl</td>\n",
       "    </tr>\n",
       "    <tr>\n",
       "      <th>5</th>\n",
       "      <td>CLT</td>\n",
       "      <td>14064</td>\n",
       "      <td>Charlotte Douglas Intl</td>\n",
       "    </tr>\n",
       "    <tr>\n",
       "      <th>6</th>\n",
       "      <td>SFO</td>\n",
       "      <td>13331</td>\n",
       "      <td>San Francisco Intl</td>\n",
       "    </tr>\n",
       "    <tr>\n",
       "      <th>7</th>\n",
       "      <td>FLL</td>\n",
       "      <td>12055</td>\n",
       "      <td>Fort Lauderdale Hollywood Intl</td>\n",
       "    </tr>\n",
       "    <tr>\n",
       "      <th>8</th>\n",
       "      <td>MIA</td>\n",
       "      <td>11728</td>\n",
       "      <td>Miami Intl</td>\n",
       "    </tr>\n",
       "    <tr>\n",
       "      <th>9</th>\n",
       "      <td>DCA</td>\n",
       "      <td>9705</td>\n",
       "      <td>Ronald Reagan Washington Natl</td>\n",
       "    </tr>\n",
       "  </tbody>\n",
       "</table>\n",
       "</div>"
      ],
      "text/plain": [
       "   faa   dest                                name\n",
       "0  ORD  17283                  Chicago Ohare Intl\n",
       "1  ATL  17215     Hartsfield Jackson Atlanta Intl\n",
       "2  LAX  16174                    Los Angeles Intl\n",
       "3  BOS  15508  General Edward Lawrence Logan Intl\n",
       "4  MCO  14082                        Orlando Intl\n",
       "5  CLT  14064              Charlotte Douglas Intl\n",
       "6  SFO  13331                  San Francisco Intl\n",
       "7  FLL  12055      Fort Lauderdale Hollywood Intl\n",
       "8  MIA  11728                          Miami Intl\n",
       "9  DCA   9705       Ronald Reagan Washington Natl"
      ]
     },
     "execution_count": 25,
     "metadata": {},
     "output_type": "execute_result"
    }
   ],
   "source": [
    "topDest = flights['dest'].value_counts(ascending = False). \\\n",
    "    head(10).reset_index(). \\\n",
    "    rename({'index':'faa'}, axis = 1). \\\n",
    "    merge(airports[['faa', 'name']], how='inner', on='faa')\n",
    "topDest\n",
    "#topDest.plot.bar('name', 'dest', rot=70)"
   ]
  },
  {
   "cell_type": "code",
   "execution_count": 9,
   "id": "instrumental-trademark",
   "metadata": {
    "scrolled": true
   },
   "outputs": [
    {
     "data": {
      "image/png": "[encoded data removed]",
      "text/plain": [
       "<Figure size 1080x720 with 1 Axes>"
      ]
     },
     "metadata": {
      "needs_background": "light"
     },
     "output_type": "display_data"
    }
   ],
   "source": [
    "import seaborn as sns\n",
    "\n",
    "sns.barplot(x = 'name', y = 'dest', data = topDest,\n",
    "            palette = 'hls',\n",
    "            #order = ['male', 'female'],\n",
    "            capsize = 0.5,\n",
    "            saturation = 8,\n",
    "            errcolor = 'gray', errwidth = 2,  \n",
    "            ci = 'sd'   \n",
    "            )\n",
    "\n",
    "d = plt.xticks(rotation=70)\n",
    "\n"
   ]
  },
  {
   "cell_type": "code",
   "execution_count": 10,
   "id": "acute-evening",
   "metadata": {},
   "outputs": [
    {
     "data": {
      "text/plain": [
       "array([ True,  True, False, ..., False, False, False])"
      ]
     },
     "execution_count": 10,
     "metadata": {},
     "output_type": "execute_result"
    }
   ],
   "source": [
    "#cond1 = flights['carrier'].values == 'UA'\n",
    "#cond2 = flights['origin'] == 'JFK'\n",
    "#flights[cond1 & cond2]\n",
    "#flights.query('carrier == \"UA\" and origin == \"JFK\"')\n",
    "flights['carrier'].values == \"UA\""
   ]
  },
  {
   "cell_type": "code",
   "execution_count": 11,
   "id": "worst-reference",
   "metadata": {},
   "outputs": [
    {
     "data": {
      "text/plain": [
       "0          True\n",
       "1          True\n",
       "2         False\n",
       "3         False\n",
       "4         False\n",
       "          ...  \n",
       "336771    False\n",
       "336772    False\n",
       "336773    False\n",
       "336774    False\n",
       "336775    False\n",
       "Name: carrier, Length: 336776, dtype: bool"
      ]
     },
     "execution_count": 11,
     "metadata": {},
     "output_type": "execute_result"
    }
   ],
   "source": [
    "flights['carrier'] == \"UA\""
   ]
  },
  {
   "cell_type": "code",
   "execution_count": 12,
   "id": "moved-obligation",
   "metadata": {},
   "outputs": [],
   "source": [
    "i = 1\n",
    "n = 300 #testing for 300 dest\n",
    "topDest = flights['dest'].value_counts()[:n].index.tolist()\n",
    "allTopDest = []\n",
    "finalTopDestinationName = []\n",
    "\n",
    "for dest in topDest:\n",
    "    allTopDest.append(getTopNameDestination(getCarrier(dest)))\n",
    "\n",
    "for dest in allTopDest:\n",
    "    # get top 10 most frequent destination\n",
    "    if dest not in finalTopDestinationName and len(finalTopDestinationName) < 10:\n",
    "        finalTopDestinationName.append(dest)\n",
    " "
   ]
  },
  {
   "cell_type": "code",
   "execution_count": 13,
   "id": "attached-pizza",
   "metadata": {
    "scrolled": true
   },
   "outputs": [],
   "source": [
    "worstDest = flights['dest'].value_counts().iloc[::-1].head(30)\n",
    "allWorstDest = []\n",
    "finalWorstDestinationName = []\n",
    "\n",
    "for dest in worstDest.index.tolist():\n",
    "    allWorstDest.append(getWorstNameDestination(getCarrier(dest)))\n",
    "\n",
    "for dest in allWorstDest:\n",
    "    # get wost 10 most frequent destination\n",
    "    if dest not in finalWorstDestinationName and len(finalWorstDestinationName) < 10:\n",
    "        finalWorstDestinationName.append(dest)"
   ]
  },
  {
   "cell_type": "code",
   "execution_count": 14,
   "id": "polish-secretariat",
   "metadata": {},
   "outputs": [],
   "source": [
    "totalFlights = len(flights)\n",
    "\n",
    "def getPourcentage(nbFlight):\n",
    "    return (nbFlight * 100) / totalFlights"
   ]
  },
  {
   "cell_type": "code",
   "execution_count": 15,
   "id": "false-grounds",
   "metadata": {},
   "outputs": [
    {
     "name": "stdout",
     "output_type": "stream",
     "text": [
      "5.1 % :  United Air Lines Inc.\n",
      "5.1 % :  Delta Air Lines Inc.\n",
      "4.8 % :  JetBlue Airways\n",
      "4.6 % :  US Airways Inc.\n",
      "4.2 % :  American Airlines Inc.\n",
      "4.2 % :  Envoy Air\n",
      "4.0 % :  ExpressJet Airlines Inc.\n",
      "3.6 % :  Southwest Airlines Co.\n",
      "3.5 % :  Endeavor Air Inc.\n",
      "2.9 % :  AirTran Airways Corporation\n"
     ]
    }
   ],
   "source": [
    "topTenDest = flights['dest'].value_counts()[:10]\n",
    "i = 0\n",
    "\n",
    "for flight in topTenDest:\n",
    "    print(round(getPourcentage(flight), 1), '% : ', finalTopDestinationName[i])\n",
    "    i += 1\n"
   ]
  },
  {
   "cell_type": "code",
   "execution_count": 16,
   "id": "valuable-genetics",
   "metadata": {
    "scrolled": true
   },
   "outputs": [
    {
     "name": "stdout",
     "output_type": "stream",
     "text": [
      "0.000297 % :  Endeavor Air Inc.\n",
      "0.000297 % :  US Airways Inc.\n",
      "0.002375 % :  United Air Lines Inc.\n",
      "0.002969 % :  ExpressJet Airlines Inc.\n",
      "0.004454 % :  Delta Air Lines Inc.\n",
      "0.004454 % :  Virgin America\n",
      "0.005048 % :  Envoy Air\n",
      "0.005642 % :  JetBlue Airways\n"
     ]
    },
    {
     "ename": "IndexError",
     "evalue": "list index out of range",
     "output_type": "error",
     "traceback": [
      "\u001b[0;31m---------------------------------------------------------------------------\u001b[0m",
      "\u001b[0;31mIndexError\u001b[0m                                Traceback (most recent call last)",
      "\u001b[0;32m<ipython-input-16-e7f8209e9aab>\u001b[0m in \u001b[0;36m<module>\u001b[0;34m\u001b[0m\n\u001b[1;32m      1\u001b[0m \u001b[0mi\u001b[0m \u001b[0;34m=\u001b[0m \u001b[0;36m0\u001b[0m\u001b[0;34m\u001b[0m\u001b[0;34m\u001b[0m\u001b[0m\n\u001b[1;32m      2\u001b[0m \u001b[0;32mfor\u001b[0m \u001b[0mflight\u001b[0m \u001b[0;32min\u001b[0m \u001b[0mworstDest\u001b[0m\u001b[0;34m:\u001b[0m\u001b[0;34m\u001b[0m\u001b[0;34m\u001b[0m\u001b[0m\n\u001b[0;32m----> 3\u001b[0;31m     \u001b[0mprint\u001b[0m\u001b[0;34m(\u001b[0m\u001b[0mround\u001b[0m\u001b[0;34m(\u001b[0m\u001b[0mgetPourcentage\u001b[0m\u001b[0;34m(\u001b[0m\u001b[0mflight\u001b[0m\u001b[0;34m)\u001b[0m\u001b[0;34m,\u001b[0m \u001b[0;36m6\u001b[0m\u001b[0;34m)\u001b[0m\u001b[0;34m,\u001b[0m \u001b[0;34m'% : '\u001b[0m\u001b[0;34m,\u001b[0m \u001b[0mfinalWorstDestinationName\u001b[0m\u001b[0;34m[\u001b[0m\u001b[0mi\u001b[0m\u001b[0;34m]\u001b[0m\u001b[0;34m)\u001b[0m\u001b[0;34m\u001b[0m\u001b[0;34m\u001b[0m\u001b[0m\n\u001b[0m\u001b[1;32m      4\u001b[0m     \u001b[0mi\u001b[0m \u001b[0;34m+=\u001b[0m \u001b[0;36m1\u001b[0m\u001b[0;34m\u001b[0m\u001b[0;34m\u001b[0m\u001b[0m\n",
      "\u001b[0;31mIndexError\u001b[0m: list index out of range"
     ]
    }
   ],
   "source": [
    "i = 0\n",
    "for flight in worstDest:\n",
    "    print(round(getPourcentage(flight), 6), '% : ', finalWorstDestinationName[i])\n",
    "    i += 1"
   ]
  },
  {
   "cell_type": "code",
   "execution_count": null,
   "id": "eleven-breach",
   "metadata": {},
   "outputs": [],
   "source": [
    "flights['tailnum'].value_counts()[:10]"
   ]
  },
  {
   "cell_type": "code",
   "execution_count": null,
   "id": "classified-consultation",
   "metadata": {},
   "outputs": [],
   "source": [
    "#4044 unique planes\n",
    "mostFlights = flights['tailnum'].value_counts()[:10].index.tolist()\n",
    "i = 1\n",
    "\n",
    "for plane in mostFlights:\n",
    "    print('#', i, 'Plane n°', plane)\n",
    "    i += 1"
   ]
  },
  {
   "cell_type": "code",
   "execution_count": null,
   "id": "golden-persian",
   "metadata": {},
   "outputs": [],
   "source": [
    "#3\n",
    "\n",
    "airlines"
   ]
  },
  {
   "cell_type": "code",
   "execution_count": null,
   "id": "driven-robertson",
   "metadata": {},
   "outputs": [],
   "source": [
    "flights"
   ]
  },
  {
   "cell_type": "code",
   "execution_count": null,
   "id": "automated-antibody",
   "metadata": {},
   "outputs": [],
   "source": [
    "airlines"
   ]
  },
  {
   "cell_type": "code",
   "execution_count": 18,
   "id": "fewer-madonna",
   "metadata": {},
   "outputs": [],
   "source": [
    "def getOriginByCarrier(carrier):\n",
    "    return flights[flights['carrier'] == carrier]\n",
    "\n",
    "nbOriginByCarrier = []\n",
    "\n",
    "#for carrierTag in airlines['carrier'].tolist():\n",
    "    #newValue = pd.DataFrame({\n",
    "        #'FJK': getOriginByCarrier(carrierTag)[flights['origin'] == 'FJK'].value_counts()\n",
    "    #})\n",
    "    #nbOriginByCarrier.append(newValue)\n",
    "\n"
   ]
  },
  {
   "cell_type": "code",
   "execution_count": null,
   "id": "naked-battlefield",
   "metadata": {},
   "outputs": [],
   "source": [
    "test = flights[flights['carrier'] == '9E']\n",
    "test2 = test[test['origin'] == 'EWR']\n",
    "len(test2)"
   ]
  },
  {
   "cell_type": "code",
   "execution_count": 120,
   "id": "ceramic-yugoslavia",
   "metadata": {},
   "outputs": [
    {
     "data": {
      "text/html": [
       "<div>\n",
       "<style scoped>\n",
       "    .dataframe tbody tr th:only-of-type {\n",
       "        vertical-align: middle;\n",
       "    }\n",
       "\n",
       "    .dataframe tbody tr th {\n",
       "        vertical-align: top;\n",
       "    }\n",
       "\n",
       "    .dataframe thead th {\n",
       "        text-align: right;\n",
       "    }\n",
       "</style>\n",
       "<table border=\"1\" class=\"dataframe\">\n",
       "  <thead>\n",
       "    <tr style=\"text-align: right;\">\n",
       "      <th></th>\n",
       "      <th>faa</th>\n",
       "      <th>dest</th>\n",
       "      <th>name</th>\n",
       "    </tr>\n",
       "  </thead>\n",
       "  <tbody>\n",
       "    <tr>\n",
       "      <th>0</th>\n",
       "      <td>ORD</td>\n",
       "      <td>17283</td>\n",
       "      <td>Chicago Ohare Intl</td>\n",
       "    </tr>\n",
       "    <tr>\n",
       "      <th>1</th>\n",
       "      <td>ATL</td>\n",
       "      <td>17215</td>\n",
       "      <td>Hartsfield Jackson Atlanta Intl</td>\n",
       "    </tr>\n",
       "    <tr>\n",
       "      <th>2</th>\n",
       "      <td>LAX</td>\n",
       "      <td>16174</td>\n",
       "      <td>Los Angeles Intl</td>\n",
       "    </tr>\n",
       "    <tr>\n",
       "      <th>3</th>\n",
       "      <td>BOS</td>\n",
       "      <td>15508</td>\n",
       "      <td>General Edward Lawrence Logan Intl</td>\n",
       "    </tr>\n",
       "    <tr>\n",
       "      <th>4</th>\n",
       "      <td>MCO</td>\n",
       "      <td>14082</td>\n",
       "      <td>Orlando Intl</td>\n",
       "    </tr>\n",
       "    <tr>\n",
       "      <th>5</th>\n",
       "      <td>CLT</td>\n",
       "      <td>14064</td>\n",
       "      <td>Charlotte Douglas Intl</td>\n",
       "    </tr>\n",
       "    <tr>\n",
       "      <th>6</th>\n",
       "      <td>SFO</td>\n",
       "      <td>13331</td>\n",
       "      <td>San Francisco Intl</td>\n",
       "    </tr>\n",
       "    <tr>\n",
       "      <th>7</th>\n",
       "      <td>FLL</td>\n",
       "      <td>12055</td>\n",
       "      <td>Fort Lauderdale Hollywood Intl</td>\n",
       "    </tr>\n",
       "    <tr>\n",
       "      <th>8</th>\n",
       "      <td>MIA</td>\n",
       "      <td>11728</td>\n",
       "      <td>Miami Intl</td>\n",
       "    </tr>\n",
       "    <tr>\n",
       "      <th>9</th>\n",
       "      <td>DCA</td>\n",
       "      <td>9705</td>\n",
       "      <td>Ronald Reagan Washington Natl</td>\n",
       "    </tr>\n",
       "  </tbody>\n",
       "</table>\n",
       "</div>"
      ],
      "text/plain": [
       "   faa   dest                                name\n",
       "0  ORD  17283                  Chicago Ohare Intl\n",
       "1  ATL  17215     Hartsfield Jackson Atlanta Intl\n",
       "2  LAX  16174                    Los Angeles Intl\n",
       "3  BOS  15508  General Edward Lawrence Logan Intl\n",
       "4  MCO  14082                        Orlando Intl\n",
       "5  CLT  14064              Charlotte Douglas Intl\n",
       "6  SFO  13331                  San Francisco Intl\n",
       "7  FLL  12055      Fort Lauderdale Hollywood Intl\n",
       "8  MIA  11728                          Miami Intl\n",
       "9  DCA   9705       Ronald Reagan Washington Natl"
      ]
     },
     "execution_count": 120,
     "metadata": {},
     "output_type": "execute_result"
    }
   ],
   "source": [
    "#Q.3\n",
    "originLength = flights['dest'].value_counts(ascending = False). \\\n",
    "    head(10).reset_index(). \\\n",
    "    rename({'index':'faa'}, axis = 1). \\\n",
    "    merge(airports[['faa', 'name']], how='inner', on='faa')\n",
    "\n",
    "#topDest.plot.bar('name', 'dest', rot=70)\n",
    "originLength\n",
    "\n",
    "\n",
    "#sns.catplot(y=\"deck\", hue=\"class\", kind=\"count\",\n",
    " #           palette=\"pastel\", edgecolor=\".6\",\n",
    "  #          data=titanic)"
   ]
  },
  {
   "cell_type": "code",
   "execution_count": 115,
   "id": "electronic-vegetarian",
   "metadata": {
    "scrolled": true
   },
   "outputs": [],
   "source": [
    "originJfk = []\n",
    "originEwr = []\n",
    "originLga = []\n",
    "indexAirlines = []\n",
    "\n",
    "def getOriginLengthForAirline(flightList, origin):\n",
    "    return len(flightList[flightList['origin'] == origin])\n",
    "\n",
    "for carrierTag in airlines['carrier'].tolist():\n",
    "    airlineList = getOriginByCarrier(carrierTag)\n",
    "    originJfk.append(getOriginLengthForAirline(airlineList, 'JFK'))\n",
    "    originEwr.append(getOriginLengthForAirline(airlineList, 'EWR'))\n",
    "    originLga.append(getOriginLengthForAirline(airlineList, 'LGA'))\n",
    "    indexAirlines.append(carrierTag)\n",
    "\n",
    "newValue = pd.DataFrame({\n",
    "    'FJK': originJfk,\n",
    "    'EWR': originEwr,\n",
    "    'LGA': originLga\n",
    "    }, index = indexAirlines)"
   ]
  },
  {
   "cell_type": "code",
   "execution_count": 117,
   "id": "every-occasions",
   "metadata": {},
   "outputs": [
    {
     "data": {
      "text/plain": [
       "9313"
      ]
     },
     "execution_count": 117,
     "metadata": {},
     "output_type": "execute_result"
    }
   ],
   "source": [
    "flightHouston = flights[(flights.dest=='IAH')] + flights[(flights.dest=='HOU')]\n",
    "flightHouston.shape[0]"
   ]
  },
  {
   "cell_type": "code",
   "execution_count": 73,
   "id": "finished-variable",
   "metadata": {},
   "outputs": [
    {
     "data": {
      "text/plain": [
       "3923"
      ]
     },
     "execution_count": 73,
     "metadata": {},
     "output_type": "execute_result"
    }
   ],
   "source": [
    "flightsNyc = flights[flights.dest=='SEA'] #airlines\n",
    "flightsNyc.shape[0]"
   ]
  },
  {
   "cell_type": "code",
   "execution_count": 83,
   "id": "expanded-tradition",
   "metadata": {},
   "outputs": [
    {
     "data": {
      "text/plain": [
       "5"
      ]
     },
     "execution_count": 83,
     "metadata": {},
     "output_type": "execute_result"
    }
   ],
   "source": [
    "flightsNycCarrier = flightsNyc['carrier'].nunique()\n",
    "flightsNycCarrier"
   ]
  },
  {
   "cell_type": "code",
   "execution_count": 88,
   "id": "discrete-judge",
   "metadata": {},
   "outputs": [
    {
     "data": {
      "text/plain": [
       "936"
      ]
     },
     "execution_count": 88,
     "metadata": {},
     "output_type": "execute_result"
    }
   ],
   "source": [
    "flightsNycTailnum = flightsNyc['tailnum'].nunique()\n",
    "flightsNycTailnum"
   ]
  },
  {
   "cell_type": "code",
   "execution_count": 105,
   "id": "ultimate-authentication",
   "metadata": {},
   "outputs": [
    {
     "data": {
      "text/html": [
       "<div>\n",
       "<style scoped>\n",
       "    .dataframe tbody tr th:only-of-type {\n",
       "        vertical-align: middle;\n",
       "    }\n",
       "\n",
       "    .dataframe tbody tr th {\n",
       "        vertical-align: top;\n",
       "    }\n",
       "\n",
       "    .dataframe thead th {\n",
       "        text-align: right;\n",
       "    }\n",
       "</style>\n",
       "<table border=\"1\" class=\"dataframe\">\n",
       "  <thead>\n",
       "    <tr style=\"text-align: right;\">\n",
       "      <th></th>\n",
       "      <th>carrier</th>\n",
       "      <th>name</th>\n",
       "    </tr>\n",
       "  </thead>\n",
       "  <tbody>\n",
       "    <tr>\n",
       "      <th>0</th>\n",
       "      <td>9E</td>\n",
       "      <td>Endeavor Air Inc.</td>\n",
       "    </tr>\n",
       "    <tr>\n",
       "      <th>1</th>\n",
       "      <td>AA</td>\n",
       "      <td>American Airlines Inc.</td>\n",
       "    </tr>\n",
       "    <tr>\n",
       "      <th>2</th>\n",
       "      <td>AS</td>\n",
       "      <td>Alaska Airlines Inc.</td>\n",
       "    </tr>\n",
       "    <tr>\n",
       "      <th>3</th>\n",
       "      <td>B6</td>\n",
       "      <td>JetBlue Airways</td>\n",
       "    </tr>\n",
       "    <tr>\n",
       "      <th>4</th>\n",
       "      <td>DL</td>\n",
       "      <td>Delta Air Lines Inc.</td>\n",
       "    </tr>\n",
       "    <tr>\n",
       "      <th>5</th>\n",
       "      <td>EV</td>\n",
       "      <td>ExpressJet Airlines Inc.</td>\n",
       "    </tr>\n",
       "    <tr>\n",
       "      <th>6</th>\n",
       "      <td>F9</td>\n",
       "      <td>Frontier Airlines Inc.</td>\n",
       "    </tr>\n",
       "    <tr>\n",
       "      <th>7</th>\n",
       "      <td>FL</td>\n",
       "      <td>AirTran Airways Corporation</td>\n",
       "    </tr>\n",
       "    <tr>\n",
       "      <th>8</th>\n",
       "      <td>HA</td>\n",
       "      <td>Hawaiian Airlines Inc.</td>\n",
       "    </tr>\n",
       "    <tr>\n",
       "      <th>9</th>\n",
       "      <td>MQ</td>\n",
       "      <td>Envoy Air</td>\n",
       "    </tr>\n",
       "    <tr>\n",
       "      <th>10</th>\n",
       "      <td>OO</td>\n",
       "      <td>SkyWest Airlines Inc.</td>\n",
       "    </tr>\n",
       "    <tr>\n",
       "      <th>11</th>\n",
       "      <td>UA</td>\n",
       "      <td>United Air Lines Inc.</td>\n",
       "    </tr>\n",
       "    <tr>\n",
       "      <th>12</th>\n",
       "      <td>US</td>\n",
       "      <td>US Airways Inc.</td>\n",
       "    </tr>\n",
       "    <tr>\n",
       "      <th>13</th>\n",
       "      <td>VX</td>\n",
       "      <td>Virgin America</td>\n",
       "    </tr>\n",
       "    <tr>\n",
       "      <th>14</th>\n",
       "      <td>WN</td>\n",
       "      <td>Southwest Airlines Co.</td>\n",
       "    </tr>\n",
       "    <tr>\n",
       "      <th>15</th>\n",
       "      <td>YV</td>\n",
       "      <td>Mesa Airlines Inc.</td>\n",
       "    </tr>\n",
       "  </tbody>\n",
       "</table>\n",
       "</div>"
      ],
      "text/plain": [
       "   carrier                         name\n",
       "0       9E            Endeavor Air Inc.\n",
       "1       AA       American Airlines Inc.\n",
       "2       AS         Alaska Airlines Inc.\n",
       "3       B6              JetBlue Airways\n",
       "4       DL         Delta Air Lines Inc.\n",
       "5       EV     ExpressJet Airlines Inc.\n",
       "6       F9       Frontier Airlines Inc.\n",
       "7       FL  AirTran Airways Corporation\n",
       "8       HA       Hawaiian Airlines Inc.\n",
       "9       MQ                    Envoy Air\n",
       "10      OO        SkyWest Airlines Inc.\n",
       "11      UA        United Air Lines Inc.\n",
       "12      US              US Airways Inc.\n",
       "13      VX               Virgin America\n",
       "14      WN       Southwest Airlines Co.\n",
       "15      YV           Mesa Airlines Inc."
      ]
     },
     "execution_count": 105,
     "metadata": {},
     "output_type": "execute_result"
    }
   ],
   "source": [
    "airlines\n"
   ]
  },
  {
   "cell_type": "code",
   "execution_count": 119,
   "id": "piano-notebook",
   "metadata": {},
   "outputs": [
    {
     "data": {
      "text/plain": [
       "ORD    17283\n",
       "ATL    17215\n",
       "LAX    16174\n",
       "BOS    15508\n",
       "MCO    14082\n",
       "       ...  \n",
       "MTJ       15\n",
       "SBN       10\n",
       "ANC        8\n",
       "LGA        1\n",
       "LEX        1\n",
       "Name: dest, Length: 105, dtype: int64"
      ]
     },
     "execution_count": 119,
     "metadata": {},
     "output_type": "execute_result"
    }
   ],
   "source": [
    " flights['dest'].value_counts(ascending = False)"
   ]
  }
 ],
 "metadata": {
  "kernelspec": {
   "display_name": "Python 3",
   "language": "python",
   "name": "python3"
  },
  "language_info": {
   "codemirror_mode": {
    "name": "ipython",
    "version": 3
   },
   "file_extension": ".py",
   "mimetype": "text/x-python",
   "name": "python",
   "nbconvert_exporter": "python",
   "pygments_lexer": "ipython3",
   "version": "3.8.5"
  }
 },
 "nbformat": 4,
 "nbformat_minor": 5
}
