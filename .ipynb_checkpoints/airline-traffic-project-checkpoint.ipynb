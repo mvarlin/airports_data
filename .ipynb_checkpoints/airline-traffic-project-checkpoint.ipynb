{
 "cells": [
  {
   "cell_type": "code",
   "execution_count": 10,
   "id": "laden-massage",
   "metadata": {},
   "outputs": [],
   "source": [
    "# Render our plots inline\n",
    "%matplotlib inline\n",
    "\n",
    "import pandas as pd\n",
    "import numpy as np\n",
    "import matplotlib.pyplot as plt\n",
    "\n",
    "plt.rcParams['figure.figsize'] = (15, 10)"
   ]
  },
  {
   "cell_type": "code",
   "execution_count": 11,
   "id": "treated-reputation",
   "metadata": {},
   "outputs": [],
   "source": [
    "airlines = pd.read_csv(\"data-csv/airlines.csv\")\n",
    "airports = pd.read_csv(\"data-csv/airports.csv\")\n",
    "flights = pd.read_csv(\"data-csv/flights.csv\")\n",
    "planes = pd.read_csv(\"data-csv/planes.csv\")\n",
    "weather = pd.read_csv(\"data-csv/weather.csv\")\n",
    "weather_with_3_doublons = pd.read_csv(\"data-csv/weather_with_3_doublons.csv\")"
   ]
  },
  {
   "cell_type": "code",
   "execution_count": 12,
   "id": "mechanical-silicon",
   "metadata": {},
   "outputs": [
    {
     "data": {
      "text/plain": [
       "True"
      ]
     },
     "execution_count": 12,
     "metadata": {},
     "output_type": "execute_result"
    }
   ],
   "source": [
    "#pd.Series(airports['faa'].unique())\n",
    "airports['faa'].nunique() == len(airports['faa'])"
   ]
  },
  {
   "cell_type": "code",
   "execution_count": 13,
   "id": "separate-suffering",
   "metadata": {
    "scrolled": true
   },
   "outputs": [
    {
     "name": "stdout",
     "output_type": "stream",
     "text": [
      "\n",
      "#1 \n",
      "\n",
      "There is 1458 airports.\n",
      "There is 23 airports that doesn't change time in summer.\n",
      "There is 10 timezones.\n",
      "There is 16 companies.\n",
      "There is 3322 planes.\n",
      "There is 8255 canceled flights.\n"
     ]
    }
   ],
   "source": [
    "#1\n",
    "print('\\n#1 \\n')\n",
    "print('There is', len(airports['faa']), 'airports.')\n",
    "\n",
    "nbAirportsNoSummerChange = len(airports[airports['dst'] == 'N'])\n",
    "print('There is', nbAirportsNoSummerChange, 'airports that doesn\\'t change time in summer.')\n",
    "\n",
    "nbTimeZone = airports['tzone'].nunique()\n",
    "print('There is', nbTimeZone, 'timezones.')\n",
    "\n",
    "print('There is', len(airlines), 'companies.')\n",
    "\n",
    "print('There is', len(planes), 'planes.')\n",
    "\n",
    "nbCanceledFlights = len(flights[flights['dep_time'] == ' '])\n",
    "print('There is', nbCanceledFlights, 'canceled flights.')"
   ]
  },
  {
   "cell_type": "code",
   "execution_count": 14,
   "id": "agricultural-heart",
   "metadata": {
    "scrolled": true
   },
   "outputs": [
    {
     "name": "stdout",
     "output_type": "stream",
     "text": [
      "\n",
      "#2 \n",
      "\n",
      "United Air Lines Inc. is the most frequented airport of the United States.\n"
     ]
    }
   ],
   "source": [
    "#2\n",
    "print('\\n#2 \\n')\n",
    "mostUsedCarrier = flights['carrier'].mode()[0]\n",
    "mostUsedCarrier\n",
    "\n",
    "mostFrequentedAirport = airlines[airlines['carrier'] == mostUsedCarrier]['name'].values[0]\n",
    "print(mostFrequentedAirport, 'is the most frequented airport of the United States.')"
   ]
  },
  {
   "cell_type": "code",
   "execution_count": 87,
   "id": "increasing-division",
   "metadata": {},
   "outputs": [],
   "source": [
    "def getCarrier(dest):\n",
    "    carrier = flights[flights['dest'] == dest]['carrier']\n",
    "    return carrier.mode()[0]\n"
   ]
  },
  {
   "cell_type": "code",
   "execution_count": 154,
   "id": "sublime-hanging",
   "metadata": {},
   "outputs": [],
   "source": [
    "def getTopNameDestination(carrier):\n",
    "    return airlines[airlines['carrier'] == carrier]['name'].values[0]\n",
    "\n",
    "def getWorstNameDestination(carrier):\n",
    "    return airlines[airlines['carrier'] == carrier]['name'].values[-1]"
   ]
  },
  {
   "cell_type": "code",
   "execution_count": 155,
   "id": "moved-obligation",
   "metadata": {},
   "outputs": [],
   "source": [
    "i = 1\n",
    "n = 300 #testing for 300 dest\n",
    "topDest = flights['dest'].value_counts()[:n].index.tolist()\n",
    "allTopDest = []\n",
    "finalTopDestinationName = []\n",
    "\n",
    "for dest in topDest:\n",
    "    allTopDest.append(getTopNameDestination(getCarrier(dest)))\n",
    "\n",
    "for dest in allTopDest:\n",
    "    # get top 10 most frequent destination\n",
    "    if dest not in finalTopDestinationName and len(finalTopDestinationName) < 10:\n",
    "        finalTopDestinationName.append(dest)\n",
    " "
   ]
  },
  {
   "cell_type": "code",
   "execution_count": 158,
   "id": "sticky-annual",
   "metadata": {
    "scrolled": true
   },
   "outputs": [],
   "source": [
    "worstDest = flights['dest'].value_counts().iloc[::-1].head(30)\n",
    "allWorstDest = []\n",
    "finalWorstDestinationName = []\n",
    "\n",
    "for dest in worstDest.index.tolist():\n",
    "    allWorstDest.append(getWorstNameDestination(getCarrier(dest)))\n",
    "\n",
    "for dest in allWorstDest:\n",
    "    # get wost 10 most frequent destination\n",
    "    if dest not in finalWorstDestinationName and len(finalWorstDestinationName) < 10:\n",
    "        finalWorstDestinationName.append(dest)"
   ]
  },
  {
   "cell_type": "code",
   "execution_count": 159,
   "id": "polish-secretariat",
   "metadata": {},
   "outputs": [],
   "source": [
    "totalFlights = len(flights)\n",
    "\n",
    "def getPourcentage(nbFlight):\n",
    "    return (nbFlight * 100) / totalFlights"
   ]
  },
  {
   "cell_type": "code",
   "execution_count": 160,
   "id": "false-grounds",
   "metadata": {},
   "outputs": [
    {
     "name": "stdout",
     "output_type": "stream",
     "text": [
      "5.1 % :  United Air Lines Inc.\n",
      "5.1 % :  Delta Air Lines Inc.\n",
      "4.8 % :  JetBlue Airways\n",
      "4.6 % :  US Airways Inc.\n",
      "4.2 % :  American Airlines Inc.\n",
      "4.2 % :  Envoy Air\n",
      "4.0 % :  ExpressJet Airlines Inc.\n",
      "3.6 % :  Southwest Airlines Co.\n",
      "3.5 % :  Endeavor Air Inc.\n",
      "2.9 % :  AirTran Airways Corporation\n"
     ]
    }
   ],
   "source": [
    "topTenDest = flights['dest'].value_counts()[:10]\n",
    "i = 0\n",
    "\n",
    "for flight in topTenDest:\n",
    "    print(round(getPourcentage(flight), 1), '% : ', finalTopDestinationName[i])\n",
    "    i += 1\n"
   ]
  },
  {
   "cell_type": "code",
   "execution_count": 162,
   "id": "fifth-edwards",
   "metadata": {
    "scrolled": true
   },
   "outputs": [
    {
     "name": "stdout",
     "output_type": "stream",
     "text": [
      "0.000297 % :  Endeavor Air Inc.\n",
      "0.000297 % :  US Airways Inc.\n",
      "0.002375 % :  United Air Lines Inc.\n",
      "0.002969 % :  ExpressJet Airlines Inc.\n",
      "0.004454 % :  Delta Air Lines Inc.\n",
      "0.004454 % :  Virgin America\n",
      "0.005048 % :  Envoy Air\n",
      "0.005642 % :  JetBlue Airways\n"
     ]
    },
    {
     "ename": "IndexError",
     "evalue": "list index out of range",
     "output_type": "error",
     "traceback": [
      "\u001b[0;31m---------------------------------------------------------------------------\u001b[0m",
      "\u001b[0;31mIndexError\u001b[0m                                Traceback (most recent call last)",
      "\u001b[0;32m<ipython-input-162-e7f8209e9aab>\u001b[0m in \u001b[0;36m<module>\u001b[0;34m\u001b[0m\n\u001b[1;32m      1\u001b[0m \u001b[0mi\u001b[0m \u001b[0;34m=\u001b[0m \u001b[0;36m0\u001b[0m\u001b[0;34m\u001b[0m\u001b[0;34m\u001b[0m\u001b[0m\n\u001b[1;32m      2\u001b[0m \u001b[0;32mfor\u001b[0m \u001b[0mflight\u001b[0m \u001b[0;32min\u001b[0m \u001b[0mworstDest\u001b[0m\u001b[0;34m:\u001b[0m\u001b[0;34m\u001b[0m\u001b[0;34m\u001b[0m\u001b[0m\n\u001b[0;32m----> 3\u001b[0;31m     \u001b[0mprint\u001b[0m\u001b[0;34m(\u001b[0m\u001b[0mround\u001b[0m\u001b[0;34m(\u001b[0m\u001b[0mgetPourcentage\u001b[0m\u001b[0;34m(\u001b[0m\u001b[0mflight\u001b[0m\u001b[0;34m)\u001b[0m\u001b[0;34m,\u001b[0m \u001b[0;36m6\u001b[0m\u001b[0;34m)\u001b[0m\u001b[0;34m,\u001b[0m \u001b[0;34m'% : '\u001b[0m\u001b[0;34m,\u001b[0m \u001b[0mfinalWorstDestinationName\u001b[0m\u001b[0;34m[\u001b[0m\u001b[0mi\u001b[0m\u001b[0;34m]\u001b[0m\u001b[0;34m)\u001b[0m\u001b[0;34m\u001b[0m\u001b[0;34m\u001b[0m\u001b[0m\n\u001b[0m\u001b[1;32m      4\u001b[0m     \u001b[0mi\u001b[0m \u001b[0;34m+=\u001b[0m \u001b[0;36m1\u001b[0m\u001b[0;34m\u001b[0m\u001b[0;34m\u001b[0m\u001b[0m\n",
      "\u001b[0;31mIndexError\u001b[0m: list index out of range"
     ]
    }
   ],
   "source": [
    "i = 0\n",
    "for flight in worstDest:\n",
    "    print(round(getPourcentage(flight), 6), '% : ', finalWorstDestinationName[i])\n",
    "    i += 1"
   ]
  },
  {
   "cell_type": "code",
   "execution_count": 21,
   "id": "expired-tampa",
   "metadata": {},
   "outputs": [
    {
     "data": {
      "text/plain": [
       "          2512\n",
       "N725MQ     575\n",
       "N722MQ     513\n",
       "N723MQ     507\n",
       "N711MQ     486\n",
       "N713MQ     483\n",
       "N258JB     427\n",
       "N298JB     407\n",
       "N353JB     404\n",
       "N351JB     402\n",
       "Name: tailnum, dtype: int64"
      ]
     },
     "execution_count": 21,
     "metadata": {},
     "output_type": "execute_result"
    }
   ],
   "source": [
    "flights['tailnum'].value_counts()[:10]"
   ]
  },
  {
   "cell_type": "code",
   "execution_count": 20,
   "id": "classified-consultation",
   "metadata": {},
   "outputs": [
    {
     "name": "stdout",
     "output_type": "stream",
     "text": [
      "# 1 Plane n°  \n",
      "# 2 Plane n° N725MQ\n",
      "# 3 Plane n° N722MQ\n",
      "# 4 Plane n° N723MQ\n",
      "# 5 Plane n° N711MQ\n",
      "# 6 Plane n° N713MQ\n",
      "# 7 Plane n° N258JB\n",
      "# 8 Plane n° N298JB\n",
      "# 9 Plane n° N353JB\n",
      "# 10 Plane n° N351JB\n"
     ]
    }
   ],
   "source": [
    "#4044 unique planes\n",
    "mostFlights = flights['tailnum'].value_counts()[:10].index.tolist()\n",
    "i = 1\n",
    "\n",
    "for plane in mostFlights:\n",
    "    print('#', i, 'Plane n°', plane)\n",
    "    i += 1"
   ]
  },
  {
   "cell_type": "code",
   "execution_count": null,
   "id": "abstract-given",
   "metadata": {},
   "outputs": [],
   "source": [
    "#3"
   ]
  }
 ],
 "metadata": {
  "kernelspec": {
   "display_name": "Python 3",
   "language": "python",
   "name": "python3"
  },
  "language_info": {
   "codemirror_mode": {
    "name": "ipython",
    "version": 3
   },
   "file_extension": ".py",
   "mimetype": "text/x-python",
   "name": "python",
   "nbconvert_exporter": "python",
   "pygments_lexer": "ipython3",
   "version": "3.7.9"
  }
 },
 "nbformat": 4,
 "nbformat_minor": 5
}
