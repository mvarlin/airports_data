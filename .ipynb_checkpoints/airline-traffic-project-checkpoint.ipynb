{
 "cells": [
  {
   "cell_type": "code",
   "execution_count": 1,
   "id": "laden-massage",
   "metadata": {},
   "outputs": [],
   "source": [
    "# Render our plots inline\n",
    "%matplotlib inline\n",
    "\n",
    "import pandas as pd\n",
    "import numpy as np\n",
    "import matplotlib.pyplot as plt\n",
    "\n",
    "plt.rcParams['figure.figsize'] = (15, 10)"
   ]
  },
  {
   "cell_type": "code",
   "execution_count": 2,
   "id": "treated-reputation",
   "metadata": {},
   "outputs": [],
   "source": [
    "airlines = pd.read_csv(\"data-csv/airlines.csv\")\n",
    "airports = pd.read_csv(\"data-csv/airports.csv\")\n",
    "flights = pd.read_csv(\"data-csv/flights.csv\")\n",
    "planes = pd.read_csv(\"data-csv/planes.csv\")\n",
    "weather = pd.read_csv(\"data-csv/weather.csv\")\n",
    "weather_with_3_doublons = pd.read_csv(\"data-csv/weather_with_3_doublons.csv\")"
   ]
  },
  {
   "cell_type": "code",
   "execution_count": 65,
   "id": "mechanical-silicon",
   "metadata": {},
   "outputs": [
    {
     "data": {
      "text/plain": [
       "True"
      ]
     },
     "execution_count": 65,
     "metadata": {},
     "output_type": "execute_result"
    }
   ],
   "source": [
    "#pd.Series(airports['faa'].unique())\n",
    "airports['faa'].nunique() == len(airports['faa'])"
   ]
  },
  {
   "cell_type": "code",
   "execution_count": 202,
   "id": "separate-suffering",
   "metadata": {
    "scrolled": true
   },
   "outputs": [
    {
     "name": "stdout",
     "output_type": "stream",
     "text": [
      "\n",
      "#1 \n",
      "\n",
      "There is 1458 airports.\n",
      "There is 23 airports that doesn't change time in summer.\n",
      "There is 10 timezones.\n",
      "There is 16 companies.\n",
      "There is 3322 planes.\n",
      "There is 8255 canceled flights.\n"
     ]
    }
   ],
   "source": [
    "#1\n",
    "print('\\n#1 \\n')\n",
    "print('There is', len(airports['faa']), 'airports.')\n",
    "\n",
    "nbAirportsNoSummerChange = len(airports[airports['dst'] == 'N'])\n",
    "print('There is', nbAirportsNoSummerChange, 'airports that doesn\\'t change time in summer.')\n",
    "\n",
    "nbTimeZone = airports['tzone'].nunique()\n",
    "print('There is', nbTimeZone, 'timezones.')\n",
    "\n",
    "print('There is', len(airlines), 'companies.')\n",
    "\n",
    "print('There is', len(planes), 'planes.')\n",
    "\n",
    "nbCanceledFlights = len(flights[flights['dep_time'] == ' '])\n",
    "print('There is', nbCanceledFlights, 'canceled flights.')"
   ]
  },
  {
   "cell_type": "code",
   "execution_count": 224,
   "id": "agricultural-heart",
   "metadata": {
    "scrolled": true
   },
   "outputs": [
    {
     "name": "stdout",
     "output_type": "stream",
     "text": [
      "\n",
      "#2 \n",
      "\n",
      "United Air Lines Inc. is the most frequented airport of the United States.\n"
     ]
    }
   ],
   "source": [
    "#2\n",
    "print('\\n#2 \\n')\n",
    "mostUsedCarrier = flights['carrier'].mode()[0]\n",
    "mostUsedCarrier\n",
    "\n",
    "mostFrequentedAirport = airlines[airlines['carrier'] == mostUsedCarrier]['name'].values[0]\n",
    "print(mostFrequentedAirport, 'is the most frequented airport of the United States.')"
   ]
  },
  {
   "cell_type": "code",
   "execution_count": 274,
   "id": "increasing-division",
   "metadata": {},
   "outputs": [],
   "source": [
    "def getCarrier(dest):\n",
    "    carrier = flights[flights['dest'] == dest]['carrier']\n",
    "    return carrier.mode()[0]"
   ]
  },
  {
   "cell_type": "code",
   "execution_count": 275,
   "id": "sublime-hanging",
   "metadata": {},
   "outputs": [],
   "source": [
    "def getNameDestination(carrier):\n",
    "    return airlines[airlines['carrier'] == carrier]['name'].values[0]"
   ]
  },
  {
   "cell_type": "code",
   "execution_count": 309,
   "id": "moved-obligation",
   "metadata": {},
   "outputs": [
    {
     "data": {
      "text/plain": [
       "['United Air Lines Inc.',\n",
       " 'Delta Air Lines Inc.',\n",
       " 'JetBlue Airways',\n",
       " 'US Airways Inc.',\n",
       " 'American Airlines Inc.',\n",
       " 'Envoy Air',\n",
       " 'ExpressJet Airlines Inc.',\n",
       " 'Southwest Airlines Co.',\n",
       " 'Endeavor Air Inc.',\n",
       " 'AirTran Airways Corporation']"
      ]
     },
     "execution_count": 309,
     "metadata": {},
     "output_type": "execute_result"
    }
   ],
   "source": [
    "i = 1\n",
    "n = 300 #testing for 300 dest\n",
    "topDest = flights['dest'].value_counts()[:n].index.tolist()\n",
    "allTopDest = []\n",
    "finalTopDestinationName = []\n",
    "\n",
    "for dest in topDest:\n",
    "    allTopDest.append(getNameDestination(getCarrier(dest)))\n",
    "    #print('#', i, getNameDestination(getCarrier(dest)))\n",
    "    #i += 1\n",
    "\n",
    "for dest in allTopDest:\n",
    "    # get top 10 most frequent destination\n",
    "    if dest not in finalTopDestinationName and len(finalTopDestinationName) < 10:\n",
    "        finalTopDestinationName.append(dest)\n",
    " \n",
    "\n",
    "finalTopDestinationName"
   ]
  },
  {
   "cell_type": "code",
   "execution_count": 324,
   "id": "polish-secretariat",
   "metadata": {},
   "outputs": [],
   "source": [
    "totalFlights = len(flights)\n",
    "\n",
    "def getPourcentage(nbFlight):\n",
    "    return (nbFlight * 100) / totalFlights"
   ]
  },
  {
   "cell_type": "code",
   "execution_count": 350,
   "id": "false-grounds",
   "metadata": {},
   "outputs": [
    {
     "name": "stdout",
     "output_type": "stream",
     "text": [
      "5.1 % :  United Air Lines Inc.\n",
      "5.1 % :  Delta Air Lines Inc.\n",
      "4.8 % :  JetBlue Airways\n",
      "4.6 % :  US Airways Inc.\n",
      "4.2 % :  American Airlines Inc.\n",
      "4.2 % :  Envoy Air\n",
      "4.0 % :  ExpressJet Airlines Inc.\n",
      "3.6 % :  Southwest Airlines Co.\n",
      "3.5 % :  Endeavor Air Inc.\n",
      "2.9 % :  AirTran Airways Corporation\n"
     ]
    }
   ],
   "source": [
    "topTenDest = flights['dest'].value_counts()[:10]\n",
    "i = 0\n",
    "\n",
    "for flight in topTenDest:\n",
    "    print(round(getPourcentage(flight), 1), '% : ', finalTopDestinationName[i])\n",
    "    i += 1\n"
   ]
  },
  {
   "cell_type": "code",
   "execution_count": 360,
   "id": "classified-consultation",
   "metadata": {},
   "outputs": [
    {
     "data": {
      "text/plain": [
       "          2512\n",
       "N725MQ     575\n",
       "N722MQ     513\n",
       "N723MQ     507\n",
       "N711MQ     486\n",
       "N713MQ     483\n",
       "N258JB     427\n",
       "N298JB     407\n",
       "N353JB     404\n",
       "N351JB     402\n",
       "Name: tailnum, dtype: int64"
      ]
     },
     "execution_count": 360,
     "metadata": {},
     "output_type": "execute_result"
    }
   ],
   "source": [
    "#4044 unique planes\n",
    "flights['tailnum'].value_counts()[:10]"
   ]
  },
  {
   "cell_type": "code",
   "execution_count": null,
   "id": "exact-receptor",
   "metadata": {},
   "outputs": [],
   "source": []
  }
 ],
 "metadata": {
  "kernelspec": {
   "display_name": "Python 3",
   "language": "python",
   "name": "python3"
  },
  "language_info": {
   "codemirror_mode": {
    "name": "ipython",
    "version": 3
   },
   "file_extension": ".py",
   "mimetype": "text/x-python",
   "name": "python",
   "nbconvert_exporter": "python",
   "pygments_lexer": "ipython3",
   "version": "3.7.9"
  }
 },
 "nbformat": 4,
 "nbformat_minor": 5
}
